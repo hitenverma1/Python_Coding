{
 "cells": [
  {
   "cell_type": "code",
   "execution_count": 7,
   "metadata": {},
   "outputs": [],
   "source": [
    "import pandas as pd\n",
    "\n",
    "# Sample DataFrame\n",
    "data = {'Column1': [123, 456, 789],\n",
    "        'Column2': [11.1111, 22.2222, 33.3333],\n",
    "        'Column3': ['Text1', 'Text2', 'Text3']}\n",
    "\n",
    "df = pd.DataFrame(data)\n",
    "\n",
    "# Define column widths\n",
    "column_widths = {'Column1': 10,\n",
    "                 'Column2': 8,\n",
    "                 'Column3': 20}\n",
    "\n",
    "# Convert DataFrame to formatted string with fixed column widths\n",
    "formatted_lines = []\n",
    "for index, row in df.iterrows():\n",
    "    formatted_line = \"\".join(str(row[column]).ljust(column_widths[column]) for column in df.columns)\n",
    "    formatted_lines.append(formatted_line)\n",
    "\n",
    "# Save formatted text to a text file\n",
    "with open('output.txt', 'w') as f:\n",
    "    f.write('\\n'.join(formatted_lines))\n"
   ]
  },
  {
   "cell_type": "code",
   "execution_count": 8,
   "metadata": {},
   "outputs": [
    {
     "data": {
      "text/plain": [
       "'789       33.3333 Text3               '"
      ]
     },
     "execution_count": 8,
     "metadata": {},
     "output_type": "execute_result"
    }
   ],
   "source": [
    "\"\".join(str(row[column]).ljust(column_widths[column]) for column in df.columns)"
   ]
  },
  {
   "cell_type": "code",
   "execution_count": 9,
   "metadata": {},
   "outputs": [
    {
     "data": {
      "text/plain": [
       "['123       11.1111 Text1               ',\n",
       " '456       22.2222 Text2               ',\n",
       " '789       33.3333 Text3               ']"
      ]
     },
     "execution_count": 9,
     "metadata": {},
     "output_type": "execute_result"
    }
   ],
   "source": [
    "formatted_lines"
   ]
  },
  {
   "cell_type": "code",
   "execution_count": null,
   "metadata": {},
   "outputs": [],
   "source": []
  }
 ],
 "metadata": {
  "kernelspec": {
   "display_name": "Python 3",
   "language": "python",
   "name": "python3"
  },
  "language_info": {
   "codemirror_mode": {
    "name": "ipython",
    "version": 3
   },
   "file_extension": ".py",
   "mimetype": "text/x-python",
   "name": "python",
   "nbconvert_exporter": "python",
   "pygments_lexer": "ipython3",
   "version": "3.11.4"
  },
  "orig_nbformat": 4
 },
 "nbformat": 4,
 "nbformat_minor": 2
}
