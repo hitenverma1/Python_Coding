{
 "cells": [
  {
   "cell_type": "code",
   "execution_count": 1,
   "metadata": {},
   "outputs": [],
   "source": [
    "import pandas as pd\n",
    "import numpy as np\n",
    "from datetime import datetime"
   ]
  },
  {
   "cell_type": "code",
   "execution_count": 2,
   "metadata": {},
   "outputs": [],
   "source": [
    "df1 = pd.read_excel(\"fake_data.xlsx\",sheet_name='data_1',dtype='object')\n",
    "df2 = pd.read_excel(\"fake_data.xlsx\",sheet_name='data_2',dtype='object')"
   ]
  },
  {
   "cell_type": "code",
   "execution_count": 3,
   "metadata": {},
   "outputs": [],
   "source": [
    "merge_df = df1.merge(df2,on='customer_id')"
   ]
  },
  {
   "cell_type": "code",
   "execution_count": 4,
   "metadata": {},
   "outputs": [
    {
     "data": {
      "text/plain": [
       "['age_x',\n",
       " 'dob_x',\n",
       " 'bank_code_x',\n",
       " 'balance_amount_x',\n",
       " 'age_y',\n",
       " 'dob_y',\n",
       " 'bank_code_y',\n",
       " 'balance_amount_y']"
      ]
     },
     "execution_count": 4,
     "metadata": {},
     "output_type": "execute_result"
    }
   ],
   "source": [
    "[col for col in merge_df.columns if '_x' in col or '_y'in col]"
   ]
  },
  {
   "cell_type": "code",
   "execution_count": 5,
   "metadata": {},
   "outputs": [
    {
     "name": "stdout",
     "output_type": "stream",
     "text": [
      "age > > with _x, _y : False\n",
      "dob > > with _x, _y : False\n",
      "bank_code > > with _x, _y : True\n",
      "balance_amount > > with _x, _y : False\n"
     ]
    }
   ],
   "source": [
    "for col in merge_df.columns:\n",
    "    if col[-2:] == ('_x'):\n",
    "        a = col\n",
    "        col_nam = '_'.join(col.split('_')[:-1])\n",
    "        if col_nam + '_y' in merge_df.columns:\n",
    "            b = col_nam + '_y'\n",
    "            t_f = (merge_df[a] == merge_df[b]).sum() == len(merge_df)\n",
    "            print(f\"{col_nam} > > with _x, _y : {t_f}\")\n",
    "            if t_f == True:\n",
    "                merge_df[col_nam] = merge_df[a]\n",
    "                merge_df.drop([a, b], axis=1, inplace=True)\n"
   ]
  },
  {
   "cell_type": "code",
   "execution_count": 6,
   "metadata": {},
   "outputs": [],
   "source": [
    "# set([val[0] for val in merge_df.cust_name])\n",
    "one = ['A', 'B', 'C', 'D']\n",
    "two = ['H', 'J', 'L', 'M']\n",
    "three = ['O', 'R', 'S', 'T', 'W']"
   ]
  },
  {
   "cell_type": "code",
   "execution_count": 20,
   "metadata": {},
   "outputs": [],
   "source": [
    "for index, row in merge_df.iterrows():\n",
    "    if row['cust_name'][0] in one:\n",
    "        merge_df.at[index, 'one'] = 1\n",
    "    elif row['cust_name'][0] in two:\n",
    "        merge_df.at[index, 'two'] = 1\n",
    "    elif row['cust_name'][0] in three:\n",
    "        merge_df.at[index, 'three'] = 1"
   ]
  },
  {
   "cell_type": "code",
   "execution_count": 22,
   "metadata": {},
   "outputs": [],
   "source": [
    "for index, row in merge_df.iterrows():\n",
    "    if row['cust_name'][0] in one:\n",
    "        merge_df.at[index, 'type'] = 'one'\n",
    "    elif row['cust_name'][0] in two:\n",
    "        merge_df.at[index, 'type'] = 'two'\n",
    "    elif row['cust_name'][0] in three:\n",
    "        merge_df.at[index, 'type'] = 'three'"
   ]
  },
  {
   "cell_type": "code",
   "execution_count": 11,
   "metadata": {},
   "outputs": [],
   "source": [
    "type_in_table = [typ for typ in merge_df.type.unique() if typ in merge_df.columns]"
   ]
  },
  {
   "cell_type": "code",
   "execution_count": 12,
   "metadata": {},
   "outputs": [],
   "source": [
    "merge_df[['three', 'two', 'one']] = merge_df[['three', 'two', 'one']].fillna(0)"
   ]
  },
  {
   "cell_type": "code",
   "execution_count": 13,
   "metadata": {},
   "outputs": [],
   "source": [
    "type_dict = merge_df.type.value_counts().to_dict()"
   ]
  },
  {
   "cell_type": "code",
   "execution_count": 15,
   "metadata": {},
   "outputs": [
    {
     "name": "stdout",
     "output_type": "stream",
     "text": [
      "three - 7\n",
      "two - 10\n",
      "one - 8\n"
     ]
    }
   ],
   "source": [
    "for typ in type_in_table:\n",
    "    if typ in merge_df.columns:\n",
    "        print(f\"{typ} - {merge_df[typ].astype(int).sum()}\")\n",
    "    else:\n",
    "        print(f\"{typ} - this column doesn't exist\")"
   ]
  },
  {
   "cell_type": "code",
   "execution_count": 16,
   "metadata": {},
   "outputs": [
    {
     "data": {
      "text/plain": [
       "dict_items([('two', 10), ('one', 8), ('three', 7)])"
      ]
     },
     "execution_count": 16,
     "metadata": {},
     "output_type": "execute_result"
    }
   ],
   "source": [
    "type_dict.items()"
   ]
  },
  {
   "cell_type": "code",
   "execution_count": 25,
   "metadata": {},
   "outputs": [
    {
     "name": "stdout",
     "output_type": "stream",
     "text": [
      "two - 10 - correct\n",
      "one - 8 - correct\n",
      "three - 7 - correct\n"
     ]
    }
   ],
   "source": [
    "for k,v in type_dict.items():\n",
    "    if k in merge_df.columns:\n",
    "        cont = merge_df[k].fillna(0).astype(int).sum()\n",
    "        if v == cont:\n",
    "            print(f\"{k} - {cont} - correct\")\n",
    "        else:\n",
    "            print(f\"{k} - {cont} - incorrect\")\n",
    "            print(f\"For {k} it should be {v}\")\n",
    "    else:\n",
    "        print(f\"{k} - this column doesn't exist\")\n"
   ]
  },
  {
   "cell_type": "code",
   "execution_count": 24,
   "metadata": {},
   "outputs": [
    {
     "data": {
      "text/plain": [
       "0     1.0\n",
       "1     1.0\n",
       "2     NaN\n",
       "3     NaN\n",
       "4     NaN\n",
       "5     NaN\n",
       "6     NaN\n",
       "7     NaN\n",
       "8     1.0\n",
       "9     NaN\n",
       "10    1.0\n",
       "11    NaN\n",
       "12    NaN\n",
       "13    NaN\n",
       "14    1.0\n",
       "15    NaN\n",
       "16    NaN\n",
       "17    NaN\n",
       "18    NaN\n",
       "19    NaN\n",
       "20    1.0\n",
       "21    1.0\n",
       "22    NaN\n",
       "23    NaN\n",
       "24    NaN\n",
       "Name: three, dtype: float64"
      ]
     },
     "execution_count": 24,
     "metadata": {},
     "output_type": "execute_result"
    }
   ],
   "source": [
    "merge_df.three"
   ]
  },
  {
   "cell_type": "code",
   "execution_count": 18,
   "metadata": {},
   "outputs": [],
   "source": [
    "merge_df.drop(columns=['three'],inplace=True)"
   ]
  },
  {
   "cell_type": "code",
   "execution_count": 11,
   "metadata": {},
   "outputs": [],
   "source": [
    "merge_df['balance_amount_x'] = merge_df.apply(lambda row: row['balance_amount_x'] if pd.notnull(row['balance_amount_x']) else row['balance_amount_y'], axis=1)\n",
    "merge_df['balance_amount'] = merge_df[['balance_amount_x', 'balance_amount_y']].max(axis=1)\n",
    "merge_df.drop(['balance_amount_x', 'balance_amount_y'], axis=1, inplace=True)"
   ]
  },
  {
   "cell_type": "code",
   "execution_count": 12,
   "metadata": {},
   "outputs": [],
   "source": [
    "# merge_df[['balance_amount','balance_amount_x', 'balance_amount_y']]"
   ]
  },
  {
   "cell_type": "code",
   "execution_count": 13,
   "metadata": {},
   "outputs": [],
   "source": [
    "merge_df['age_x'] = merge_df.apply(lambda row: row['age_x'] if pd.notnull(row['age_x']) else row['age_y'], axis=1)\n",
    "merge_df['age'] = merge_df[['age_x', 'age_y']].max(axis=1)\n",
    "merge_df.drop(['age_x', 'age_y'], axis=1, inplace=True)"
   ]
  },
  {
   "cell_type": "code",
   "execution_count": 14,
   "metadata": {},
   "outputs": [],
   "source": [
    "merge_df['dob'] = merge_df['dob_x'].fillna(merge_df['dob_y'])\n",
    "\n",
    "# Drop the original 'name_x' and 'name_y' columns\n",
    "merge_df.drop(['dob_x', 'dob_y'], axis=1, inplace=True)\n"
   ]
  },
  {
   "cell_type": "code",
   "execution_count": 15,
   "metadata": {},
   "outputs": [],
   "source": [
    "# df[['dob','dob_x','dob_y']]"
   ]
  },
  {
   "cell_type": "code",
   "execution_count": 19,
   "metadata": {},
   "outputs": [],
   "source": [
    "merge_df['dob'] = pd.to_datetime(merge_df['dob'],dayfirst=True).dt.strftime('%Y-%m-%d')"
   ]
  },
  {
   "cell_type": "code",
   "execution_count": 20,
   "metadata": {},
   "outputs": [],
   "source": [
    "merge_df.to_excel('test.xlsx',index=False)"
   ]
  },
  {
   "cell_type": "code",
   "execution_count": null,
   "metadata": {},
   "outputs": [],
   "source": []
  }
 ],
 "metadata": {
  "kernelspec": {
   "display_name": "Python 3",
   "language": "python",
   "name": "python3"
  },
  "language_info": {
   "codemirror_mode": {
    "name": "ipython",
    "version": 3
   },
   "file_extension": ".py",
   "mimetype": "text/x-python",
   "name": "python",
   "nbconvert_exporter": "python",
   "pygments_lexer": "ipython3",
   "version": "3.11.4"
  },
  "orig_nbformat": 4
 },
 "nbformat": 4,
 "nbformat_minor": 2
}
