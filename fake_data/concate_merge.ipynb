{
 "cells": [
  {
   "cell_type": "code",
   "execution_count": 1,
   "metadata": {},
   "outputs": [],
   "source": [
    "import pandas as pd\n",
    "import numpy as np\n",
    "from datetime import datetime"
   ]
  },
  {
   "cell_type": "code",
   "execution_count": 2,
   "metadata": {},
   "outputs": [],
   "source": [
    "df1 = pd.read_excel(\"fake_data.xlsx\",sheet_name='data_1',dtype='object')\n",
    "df2 = pd.read_excel(\"fake_data.xlsx\",sheet_name='data_2',dtype='object')"
   ]
  },
  {
   "cell_type": "code",
   "execution_count": 3,
   "metadata": {},
   "outputs": [],
   "source": [
    "merge_df = df1.merge(df2,on='customer_id')"
   ]
  },
  {
   "cell_type": "code",
   "execution_count": 4,
   "metadata": {},
   "outputs": [
    {
     "data": {
      "text/plain": [
       "Index(['customer_id', 'cust_name', 'age_x', 'dob_x', 'bank_ac_number',\n",
       "       'bank_code_x', 'balance_amount_x', 'age_y', 'dob_y', 'bank_code_y',\n",
       "       'balance_amount_y'],\n",
       "      dtype='object')"
      ]
     },
     "execution_count": 4,
     "metadata": {},
     "output_type": "execute_result"
    }
   ],
   "source": [
    "merge_df.columns"
   ]
  },
  {
   "cell_type": "code",
   "execution_count": 5,
   "metadata": {},
   "outputs": [],
   "source": [
    "for col in merge_df.columns:\n",
    "    if '_x' in col:\n",
    "        a = '_'.join(col.split('_')[:-1])\n",
    "        "
   ]
  },
  {
   "cell_type": "code",
   "execution_count": 6,
   "metadata": {},
   "outputs": [],
   "source": [
    "merge_df['balance_amount_x'] = merge_df.apply(lambda row: row['balance_amount_x'] if pd.notnull(row['balance_amount_x']) else row['balance_amount_y'], axis=1)\n",
    "merge_df['balance_amount'] = merge_df[['balance_amount_x', 'balance_amount_y']].max(axis=1)"
   ]
  },
  {
   "cell_type": "code",
   "execution_count": 7,
   "metadata": {},
   "outputs": [],
   "source": [
    "# merge_df[['balance_amount','balance_amount_x', 'balance_amount_y']]"
   ]
  },
  {
   "cell_type": "code",
   "execution_count": 8,
   "metadata": {},
   "outputs": [],
   "source": [
    "merge_df['age_x'] = merge_df.apply(lambda row: row['age_x'] if pd.notnull(row['age_x']) else row['age_y'], axis=1)\n",
    "merge_df['age'] = merge_df[['age_x', 'age_y']].max(axis=1)"
   ]
  },
  {
   "cell_type": "code",
   "execution_count": 13,
   "metadata": {},
   "outputs": [],
   "source": [
    "merge_df['dob'] = merge_df['dob_x'].fillna(merge_df['dob_y'])\n",
    "\n",
    "# Drop the original 'name_x' and 'name_y' columns\n",
    "# df.drop(['name_x', 'name_y'], axis=1, inplace=True)\n"
   ]
  },
  {
   "cell_type": "code",
   "execution_count": null,
   "metadata": {},
   "outputs": [],
   "source": [
    "# df[['dob','dob_x','dob_y']]"
   ]
  },
  {
   "cell_type": "code",
   "execution_count": 10,
   "metadata": {},
   "outputs": [],
   "source": [
    "df = merge_df.copy()"
   ]
  },
  {
   "cell_type": "code",
   "execution_count": 11,
   "metadata": {},
   "outputs": [],
   "source": [
    "x_columns = [col for col in df.columns if col.endswith('_x')]\n",
    "y_columns = [col.replace('_x', '_y') for col in x_columns]"
   ]
  },
  {
   "cell_type": "code",
   "execution_count": 12,
   "metadata": {},
   "outputs": [
    {
     "data": {
      "text/plain": [
       "['age_x', 'dob_x', 'bank_code_x', 'balance_amount_x']"
      ]
     },
     "execution_count": 12,
     "metadata": {},
     "output_type": "execute_result"
    }
   ],
   "source": [
    "x_columns"
   ]
  },
  {
   "cell_type": "code",
   "execution_count": 14,
   "metadata": {},
   "outputs": [
    {
     "data": {
      "text/plain": [
       "['age_y', 'dob_y', 'bank_code_y', 'balance_amount_y']"
      ]
     },
     "execution_count": 14,
     "metadata": {},
     "output_type": "execute_result"
    }
   ],
   "source": [
    "y_columns"
   ]
  },
  {
   "cell_type": "code",
   "execution_count": 15,
   "metadata": {},
   "outputs": [
    {
     "data": {
      "text/plain": [
       "True"
      ]
     },
     "execution_count": 15,
     "metadata": {},
     "output_type": "execute_result"
    }
   ],
   "source": [
    "(df['bank_code_x'] == df['bank_code_x']).sum() == len(df)"
   ]
  },
  {
   "cell_type": "code",
   "execution_count": 16,
   "metadata": {},
   "outputs": [
    {
     "name": "stdout",
     "output_type": "stream",
     "text": [
      "age > > with _x, _y : False\n",
      "dob > > with _x, _y : False\n",
      "bank_code > > with _x, _y : True\n",
      "balance_amount > > with _x, _y : False\n"
     ]
    }
   ],
   "source": [
    "for col in df.columns:\n",
    "    if col[-2:] == ('_x'):\n",
    "        a = col\n",
    "        col_nam = '_'.join(col.split('_')[:-1])\n",
    "        if col_nam + '_y' in df.columns:\n",
    "            b = col_nam + '_y'\n",
    "            print(f\"{col_nam} > > with _x, _y : {(df[a] == df[b]).sum() == len(df)}\")\n"
   ]
  },
  {
   "cell_type": "code",
   "execution_count": 17,
   "metadata": {},
   "outputs": [
    {
     "data": {
      "text/plain": [
       "'balance_amount_x'"
      ]
     },
     "execution_count": 17,
     "metadata": {},
     "output_type": "execute_result"
    }
   ],
   "source": [
    "a"
   ]
  },
  {
   "cell_type": "code",
   "execution_count": 18,
   "metadata": {},
   "outputs": [
    {
     "data": {
      "text/plain": [
       "'balance_amount_y'"
      ]
     },
     "execution_count": 18,
     "metadata": {},
     "output_type": "execute_result"
    }
   ],
   "source": [
    "b"
   ]
  },
  {
   "cell_type": "code",
   "execution_count": null,
   "metadata": {},
   "outputs": [],
   "source": []
  },
  {
   "cell_type": "code",
   "execution_count": null,
   "metadata": {},
   "outputs": [],
   "source": []
  }
 ],
 "metadata": {
  "kernelspec": {
   "display_name": "Python 3",
   "language": "python",
   "name": "python3"
  },
  "language_info": {
   "codemirror_mode": {
    "name": "ipython",
    "version": 3
   },
   "file_extension": ".py",
   "mimetype": "text/x-python",
   "name": "python",
   "nbconvert_exporter": "python",
   "pygments_lexer": "ipython3",
   "version": "3.11.4"
  },
  "orig_nbformat": 4
 },
 "nbformat": 4,
 "nbformat_minor": 2
}
