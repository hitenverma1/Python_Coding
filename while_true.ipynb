{
 "cells": [
  {
   "cell_type": "code",
   "execution_count": 2,
   "metadata": {},
   "outputs": [
    {
     "name": "stdout",
     "output_type": "stream",
     "text": [
      "Invalid input. Please enter an integer.\n",
      "Invalid input. Please enter an integer.\n",
      "Invalid input. Please enter an integer.\n",
      "Invalid input. Please enter an integer.\n",
      "Invalid input. Please enter an integer.\n",
      "Invalid input. Please enter an integer.\n",
      "Invalid input. Please enter an integer.\n",
      "Invalid input. Please enter an integer.\n",
      "Invalid input. Please enter an integer.\n",
      "Invalid input. Please enter an integer.\n",
      "Invalid input. Please enter an integer.\n",
      "Invalid input. Please enter an integer.\n",
      "Invalid input. Please enter an integer.\n",
      "Invalid input. Please enter an integer.\n",
      "Input is an integer: 89\n"
     ]
    }
   ],
   "source": [
    "while True:\n",
    "    user_input = input(\"Enter an integer: \")\n",
    "    \n",
    "    try:\n",
    "        user_input = int(user_input)\n",
    "        print(\"Input is an integer:\", user_input)\n",
    "        break  # Exit the loop if an integer is provided\n",
    "    except ValueError:\n",
    "        print(\"Invalid input. Please enter an integer.\")\n"
   ]
  },
  {
   "cell_type": "code",
   "execution_count": 3,
   "metadata": {},
   "outputs": [
    {
     "name": "stdout",
     "output_type": "stream",
     "text": [
      "Invalid input. Please enter an integer or float.\n",
      "Invalid input. Please enter an integer or float.\n",
      "Invalid input. Please enter an integer or float.\n",
      "Invalid input. Please enter an integer or float.\n",
      "Input is a float: 23.42\n"
     ]
    }
   ],
   "source": [
    "while True:\n",
    "    user_input = input(\"Enter an integer or float: \")\n",
    "\n",
    "    try:\n",
    "        user_input = float(user_input)\n",
    "        if user_input.is_integer():\n",
    "            print(\"Input is an integer:\", int(user_input))\n",
    "        else:\n",
    "            print(\"Input is a float:\", user_input)\n",
    "        break  # Exit the loop if a valid integer or float is provided\n",
    "    except ValueError:\n",
    "        print(\"Invalid input. Please enter an integer or float.\")\n"
   ]
  },
  {
   "cell_type": "code",
   "execution_count": null,
   "metadata": {},
   "outputs": [],
   "source": []
  }
 ],
 "metadata": {
  "kernelspec": {
   "display_name": "Python 3",
   "language": "python",
   "name": "python3"
  },
  "language_info": {
   "codemirror_mode": {
    "name": "ipython",
    "version": 3
   },
   "file_extension": ".py",
   "mimetype": "text/x-python",
   "name": "python",
   "nbconvert_exporter": "python",
   "pygments_lexer": "ipython3",
   "version": "3.10.5"
  },
  "orig_nbformat": 4
 },
 "nbformat": 4,
 "nbformat_minor": 2
}
