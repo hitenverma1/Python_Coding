{
 "cells": [
  {
   "cell_type": "code",
   "execution_count": 54,
   "metadata": {},
   "outputs": [],
   "source": [
    "import datetime"
   ]
  },
  {
   "cell_type": "code",
   "execution_count": 55,
   "metadata": {},
   "outputs": [],
   "source": [
    "\n",
    "dt = datetime.datetime(2023, 1, 29, 9, 30)"
   ]
  },
  {
   "cell_type": "code",
   "execution_count": 56,
   "metadata": {},
   "outputs": [],
   "source": [
    "one_hour_later = dt + datetime.timedelta(hours=1)"
   ]
  },
  {
   "cell_type": "code",
   "execution_count": 57,
   "metadata": {},
   "outputs": [
    {
     "data": {
      "text/plain": [
       "datetime.datetime(2023, 1, 29, 10, 30)"
      ]
     },
     "execution_count": 57,
     "metadata": {},
     "output_type": "execute_result"
    }
   ],
   "source": [
    "one_hour_later"
   ]
  },
  {
   "cell_type": "code",
   "execution_count": 58,
   "metadata": {},
   "outputs": [],
   "source": [
    "one_day_earlier = dt - datetime.timedelta(days=1)"
   ]
  },
  {
   "cell_type": "code",
   "execution_count": 59,
   "metadata": {},
   "outputs": [
    {
     "data": {
      "text/plain": [
       "datetime.datetime(2023, 1, 28, 9, 30)"
      ]
     },
     "execution_count": 59,
     "metadata": {},
     "output_type": "execute_result"
    }
   ],
   "source": [
    "one_day_earlier"
   ]
  },
  {
   "cell_type": "code",
   "execution_count": 60,
   "metadata": {},
   "outputs": [],
   "source": [
    "dt_now = datetime.datetime.now()"
   ]
  },
  {
   "cell_type": "code",
   "execution_count": 61,
   "metadata": {},
   "outputs": [],
   "source": [
    "formatted_dt = dt.strftime(\"%d-%m-%Y %H:%M:%S\")"
   ]
  },
  {
   "cell_type": "code",
   "execution_count": 62,
   "metadata": {},
   "outputs": [
    {
     "data": {
      "text/plain": [
       "'29-01-2023 09:30:00'"
      ]
     },
     "execution_count": 62,
     "metadata": {},
     "output_type": "execute_result"
    }
   ],
   "source": [
    "formatted_dt"
   ]
  },
  {
   "cell_type": "code",
   "execution_count": 63,
   "metadata": {},
   "outputs": [
    {
     "data": {
      "text/plain": [
       "'2023-04-27'"
      ]
     },
     "execution_count": 63,
     "metadata": {},
     "output_type": "execute_result"
    }
   ],
   "source": [
    "str(str(datetime.datetime.now()).split(\" \")[0])"
   ]
  },
  {
   "cell_type": "code",
   "execution_count": 64,
   "metadata": {},
   "outputs": [],
   "source": [
    "import pandas as pd"
   ]
  },
  {
   "cell_type": "code",
   "execution_count": 65,
   "metadata": {},
   "outputs": [],
   "source": [
    "df = pd.DataFrame({\"id\":[1,2,3,4,5,6,7,8,9,10],\n",
    "              \"name\":[\"hiten\",\"manav\",\"hardeep\",\"akshy\",\"sumit\",\"varun\",\"shubham\",\"loyum\",\"virat\",\"sagar\"],\n",
    "              \"date_of_joining\":[datetime.datetime.now().strftime(\"%d-%m-%Y\")]*10})"
   ]
  },
  {
   "cell_type": "code",
   "execution_count": 66,
   "metadata": {},
   "outputs": [
    {
     "data": {
      "text/html": [
       "<div>\n",
       "<style scoped>\n",
       "    .dataframe tbody tr th:only-of-type {\n",
       "        vertical-align: middle;\n",
       "    }\n",
       "\n",
       "    .dataframe tbody tr th {\n",
       "        vertical-align: top;\n",
       "    }\n",
       "\n",
       "    .dataframe thead th {\n",
       "        text-align: right;\n",
       "    }\n",
       "</style>\n",
       "<table border=\"1\" class=\"dataframe\">\n",
       "  <thead>\n",
       "    <tr style=\"text-align: right;\">\n",
       "      <th></th>\n",
       "      <th>id</th>\n",
       "      <th>name</th>\n",
       "      <th>date_of_joining</th>\n",
       "    </tr>\n",
       "  </thead>\n",
       "  <tbody>\n",
       "    <tr>\n",
       "      <th>0</th>\n",
       "      <td>1</td>\n",
       "      <td>hiten</td>\n",
       "      <td>27-04-2023</td>\n",
       "    </tr>\n",
       "    <tr>\n",
       "      <th>1</th>\n",
       "      <td>2</td>\n",
       "      <td>manav</td>\n",
       "      <td>27-04-2023</td>\n",
       "    </tr>\n",
       "    <tr>\n",
       "      <th>2</th>\n",
       "      <td>3</td>\n",
       "      <td>hardeep</td>\n",
       "      <td>27-04-2023</td>\n",
       "    </tr>\n",
       "    <tr>\n",
       "      <th>3</th>\n",
       "      <td>4</td>\n",
       "      <td>akshy</td>\n",
       "      <td>27-04-2023</td>\n",
       "    </tr>\n",
       "    <tr>\n",
       "      <th>4</th>\n",
       "      <td>5</td>\n",
       "      <td>sumit</td>\n",
       "      <td>27-04-2023</td>\n",
       "    </tr>\n",
       "    <tr>\n",
       "      <th>5</th>\n",
       "      <td>6</td>\n",
       "      <td>varun</td>\n",
       "      <td>27-04-2023</td>\n",
       "    </tr>\n",
       "    <tr>\n",
       "      <th>6</th>\n",
       "      <td>7</td>\n",
       "      <td>shubham</td>\n",
       "      <td>27-04-2023</td>\n",
       "    </tr>\n",
       "    <tr>\n",
       "      <th>7</th>\n",
       "      <td>8</td>\n",
       "      <td>loyum</td>\n",
       "      <td>27-04-2023</td>\n",
       "    </tr>\n",
       "    <tr>\n",
       "      <th>8</th>\n",
       "      <td>9</td>\n",
       "      <td>virat</td>\n",
       "      <td>27-04-2023</td>\n",
       "    </tr>\n",
       "    <tr>\n",
       "      <th>9</th>\n",
       "      <td>10</td>\n",
       "      <td>sagar</td>\n",
       "      <td>27-04-2023</td>\n",
       "    </tr>\n",
       "  </tbody>\n",
       "</table>\n",
       "</div>"
      ],
      "text/plain": [
       "   id     name date_of_joining\n",
       "0   1    hiten      27-04-2023\n",
       "1   2    manav      27-04-2023\n",
       "2   3  hardeep      27-04-2023\n",
       "3   4    akshy      27-04-2023\n",
       "4   5    sumit      27-04-2023\n",
       "5   6    varun      27-04-2023\n",
       "6   7  shubham      27-04-2023\n",
       "7   8    loyum      27-04-2023\n",
       "8   9    virat      27-04-2023\n",
       "9  10    sagar      27-04-2023"
      ]
     },
     "execution_count": 66,
     "metadata": {},
     "output_type": "execute_result"
    }
   ],
   "source": [
    "df"
   ]
  },
  {
   "cell_type": "code",
   "execution_count": 67,
   "metadata": {},
   "outputs": [],
   "source": [
    "todays_date = str(str(datetime.datetime.now()).split(\" \")[0])"
   ]
  },
  {
   "cell_type": "code",
   "execution_count": 68,
   "metadata": {},
   "outputs": [],
   "source": [
    "df['today'] = todays_date"
   ]
  },
  {
   "cell_type": "code",
   "execution_count": 69,
   "metadata": {},
   "outputs": [],
   "source": [
    "df['today'] = pd.to_datetime(df['today'],dayfirst=True).dt.strftime('%Y-%m-%d')"
   ]
  },
  {
   "cell_type": "code",
   "execution_count": 70,
   "metadata": {},
   "outputs": [
    {
     "data": {
      "text/html": [
       "<div>\n",
       "<style scoped>\n",
       "    .dataframe tbody tr th:only-of-type {\n",
       "        vertical-align: middle;\n",
       "    }\n",
       "\n",
       "    .dataframe tbody tr th {\n",
       "        vertical-align: top;\n",
       "    }\n",
       "\n",
       "    .dataframe thead th {\n",
       "        text-align: right;\n",
       "    }\n",
       "</style>\n",
       "<table border=\"1\" class=\"dataframe\">\n",
       "  <thead>\n",
       "    <tr style=\"text-align: right;\">\n",
       "      <th></th>\n",
       "      <th>id</th>\n",
       "      <th>name</th>\n",
       "      <th>date_of_joining</th>\n",
       "      <th>today</th>\n",
       "    </tr>\n",
       "  </thead>\n",
       "  <tbody>\n",
       "    <tr>\n",
       "      <th>0</th>\n",
       "      <td>1</td>\n",
       "      <td>hiten</td>\n",
       "      <td>27-04-2023</td>\n",
       "      <td>2023-04-27</td>\n",
       "    </tr>\n",
       "    <tr>\n",
       "      <th>1</th>\n",
       "      <td>2</td>\n",
       "      <td>manav</td>\n",
       "      <td>27-04-2023</td>\n",
       "      <td>2023-04-27</td>\n",
       "    </tr>\n",
       "    <tr>\n",
       "      <th>2</th>\n",
       "      <td>3</td>\n",
       "      <td>hardeep</td>\n",
       "      <td>27-04-2023</td>\n",
       "      <td>2023-04-27</td>\n",
       "    </tr>\n",
       "    <tr>\n",
       "      <th>3</th>\n",
       "      <td>4</td>\n",
       "      <td>akshy</td>\n",
       "      <td>27-04-2023</td>\n",
       "      <td>2023-04-27</td>\n",
       "    </tr>\n",
       "    <tr>\n",
       "      <th>4</th>\n",
       "      <td>5</td>\n",
       "      <td>sumit</td>\n",
       "      <td>27-04-2023</td>\n",
       "      <td>2023-04-27</td>\n",
       "    </tr>\n",
       "    <tr>\n",
       "      <th>5</th>\n",
       "      <td>6</td>\n",
       "      <td>varun</td>\n",
       "      <td>27-04-2023</td>\n",
       "      <td>2023-04-27</td>\n",
       "    </tr>\n",
       "    <tr>\n",
       "      <th>6</th>\n",
       "      <td>7</td>\n",
       "      <td>shubham</td>\n",
       "      <td>27-04-2023</td>\n",
       "      <td>2023-04-27</td>\n",
       "    </tr>\n",
       "    <tr>\n",
       "      <th>7</th>\n",
       "      <td>8</td>\n",
       "      <td>loyum</td>\n",
       "      <td>27-04-2023</td>\n",
       "      <td>2023-04-27</td>\n",
       "    </tr>\n",
       "    <tr>\n",
       "      <th>8</th>\n",
       "      <td>9</td>\n",
       "      <td>virat</td>\n",
       "      <td>27-04-2023</td>\n",
       "      <td>2023-04-27</td>\n",
       "    </tr>\n",
       "    <tr>\n",
       "      <th>9</th>\n",
       "      <td>10</td>\n",
       "      <td>sagar</td>\n",
       "      <td>27-04-2023</td>\n",
       "      <td>2023-04-27</td>\n",
       "    </tr>\n",
       "  </tbody>\n",
       "</table>\n",
       "</div>"
      ],
      "text/plain": [
       "   id     name date_of_joining       today\n",
       "0   1    hiten      27-04-2023  2023-04-27\n",
       "1   2    manav      27-04-2023  2023-04-27\n",
       "2   3  hardeep      27-04-2023  2023-04-27\n",
       "3   4    akshy      27-04-2023  2023-04-27\n",
       "4   5    sumit      27-04-2023  2023-04-27\n",
       "5   6    varun      27-04-2023  2023-04-27\n",
       "6   7  shubham      27-04-2023  2023-04-27\n",
       "7   8    loyum      27-04-2023  2023-04-27\n",
       "8   9    virat      27-04-2023  2023-04-27\n",
       "9  10    sagar      27-04-2023  2023-04-27"
      ]
     },
     "execution_count": 70,
     "metadata": {},
     "output_type": "execute_result"
    }
   ],
   "source": [
    "df"
   ]
  },
  {
   "cell_type": "code",
   "execution_count": 71,
   "metadata": {},
   "outputs": [
    {
     "data": {
      "text/plain": [
       "DatetimeIndex(['2023-01-01', '2023-01-02', '2023-01-03', '2023-01-04',\n",
       "               '2023-01-05', '2023-01-06', '2023-01-07', '2023-01-08',\n",
       "               '2023-01-09', '2023-01-10'],\n",
       "              dtype='datetime64[ns]', freq='D')"
      ]
     },
     "execution_count": 71,
     "metadata": {},
     "output_type": "execute_result"
    }
   ],
   "source": [
    "#range of date\n",
    "pd.date_range(start=\"2023-01-01\", periods=10)"
   ]
  },
  {
   "cell_type": "code",
   "execution_count": 72,
   "metadata": {},
   "outputs": [],
   "source": [
    "df['range_date'] = pd.date_range(start=\"2023-07-24\", periods=10)"
   ]
  },
  {
   "cell_type": "code",
   "execution_count": 73,
   "metadata": {},
   "outputs": [
    {
     "data": {
      "text/html": [
       "<div>\n",
       "<style scoped>\n",
       "    .dataframe tbody tr th:only-of-type {\n",
       "        vertical-align: middle;\n",
       "    }\n",
       "\n",
       "    .dataframe tbody tr th {\n",
       "        vertical-align: top;\n",
       "    }\n",
       "\n",
       "    .dataframe thead th {\n",
       "        text-align: right;\n",
       "    }\n",
       "</style>\n",
       "<table border=\"1\" class=\"dataframe\">\n",
       "  <thead>\n",
       "    <tr style=\"text-align: right;\">\n",
       "      <th></th>\n",
       "      <th>id</th>\n",
       "      <th>name</th>\n",
       "      <th>date_of_joining</th>\n",
       "      <th>today</th>\n",
       "      <th>range_date</th>\n",
       "    </tr>\n",
       "  </thead>\n",
       "  <tbody>\n",
       "    <tr>\n",
       "      <th>0</th>\n",
       "      <td>1</td>\n",
       "      <td>hiten</td>\n",
       "      <td>27-04-2023</td>\n",
       "      <td>2023-04-27</td>\n",
       "      <td>2023-07-24</td>\n",
       "    </tr>\n",
       "    <tr>\n",
       "      <th>1</th>\n",
       "      <td>2</td>\n",
       "      <td>manav</td>\n",
       "      <td>27-04-2023</td>\n",
       "      <td>2023-04-27</td>\n",
       "      <td>2023-07-25</td>\n",
       "    </tr>\n",
       "    <tr>\n",
       "      <th>2</th>\n",
       "      <td>3</td>\n",
       "      <td>hardeep</td>\n",
       "      <td>27-04-2023</td>\n",
       "      <td>2023-04-27</td>\n",
       "      <td>2023-07-26</td>\n",
       "    </tr>\n",
       "    <tr>\n",
       "      <th>3</th>\n",
       "      <td>4</td>\n",
       "      <td>akshy</td>\n",
       "      <td>27-04-2023</td>\n",
       "      <td>2023-04-27</td>\n",
       "      <td>2023-07-27</td>\n",
       "    </tr>\n",
       "    <tr>\n",
       "      <th>4</th>\n",
       "      <td>5</td>\n",
       "      <td>sumit</td>\n",
       "      <td>27-04-2023</td>\n",
       "      <td>2023-04-27</td>\n",
       "      <td>2023-07-28</td>\n",
       "    </tr>\n",
       "    <tr>\n",
       "      <th>5</th>\n",
       "      <td>6</td>\n",
       "      <td>varun</td>\n",
       "      <td>27-04-2023</td>\n",
       "      <td>2023-04-27</td>\n",
       "      <td>2023-07-29</td>\n",
       "    </tr>\n",
       "    <tr>\n",
       "      <th>6</th>\n",
       "      <td>7</td>\n",
       "      <td>shubham</td>\n",
       "      <td>27-04-2023</td>\n",
       "      <td>2023-04-27</td>\n",
       "      <td>2023-07-30</td>\n",
       "    </tr>\n",
       "    <tr>\n",
       "      <th>7</th>\n",
       "      <td>8</td>\n",
       "      <td>loyum</td>\n",
       "      <td>27-04-2023</td>\n",
       "      <td>2023-04-27</td>\n",
       "      <td>2023-07-31</td>\n",
       "    </tr>\n",
       "    <tr>\n",
       "      <th>8</th>\n",
       "      <td>9</td>\n",
       "      <td>virat</td>\n",
       "      <td>27-04-2023</td>\n",
       "      <td>2023-04-27</td>\n",
       "      <td>2023-08-01</td>\n",
       "    </tr>\n",
       "    <tr>\n",
       "      <th>9</th>\n",
       "      <td>10</td>\n",
       "      <td>sagar</td>\n",
       "      <td>27-04-2023</td>\n",
       "      <td>2023-04-27</td>\n",
       "      <td>2023-08-02</td>\n",
       "    </tr>\n",
       "  </tbody>\n",
       "</table>\n",
       "</div>"
      ],
      "text/plain": [
       "   id     name date_of_joining       today range_date\n",
       "0   1    hiten      27-04-2023  2023-04-27 2023-07-24\n",
       "1   2    manav      27-04-2023  2023-04-27 2023-07-25\n",
       "2   3  hardeep      27-04-2023  2023-04-27 2023-07-26\n",
       "3   4    akshy      27-04-2023  2023-04-27 2023-07-27\n",
       "4   5    sumit      27-04-2023  2023-04-27 2023-07-28\n",
       "5   6    varun      27-04-2023  2023-04-27 2023-07-29\n",
       "6   7  shubham      27-04-2023  2023-04-27 2023-07-30\n",
       "7   8    loyum      27-04-2023  2023-04-27 2023-07-31\n",
       "8   9    virat      27-04-2023  2023-04-27 2023-08-01\n",
       "9  10    sagar      27-04-2023  2023-04-27 2023-08-02"
      ]
     },
     "execution_count": 73,
     "metadata": {},
     "output_type": "execute_result"
    }
   ],
   "source": [
    "df"
   ]
  },
  {
   "cell_type": "code",
   "execution_count": 74,
   "metadata": {},
   "outputs": [
    {
     "data": {
      "text/html": [
       "<div>\n",
       "<style scoped>\n",
       "    .dataframe tbody tr th:only-of-type {\n",
       "        vertical-align: middle;\n",
       "    }\n",
       "\n",
       "    .dataframe tbody tr th {\n",
       "        vertical-align: top;\n",
       "    }\n",
       "\n",
       "    .dataframe thead th {\n",
       "        text-align: right;\n",
       "    }\n",
       "</style>\n",
       "<table border=\"1\" class=\"dataframe\">\n",
       "  <thead>\n",
       "    <tr style=\"text-align: right;\">\n",
       "      <th></th>\n",
       "      <th>Tokyo</th>\n",
       "      <th>Beijing</th>\n",
       "    </tr>\n",
       "  </thead>\n",
       "  <tbody>\n",
       "    <tr>\n",
       "      <th>2023-01-01</th>\n",
       "      <td>1.730270</td>\n",
       "      <td>4.743177</td>\n",
       "    </tr>\n",
       "    <tr>\n",
       "      <th>2023-01-02</th>\n",
       "      <td>0.480068</td>\n",
       "      <td>2.302572</td>\n",
       "    </tr>\n",
       "    <tr>\n",
       "      <th>2023-01-03</th>\n",
       "      <td>1.562949</td>\n",
       "      <td>3.172551</td>\n",
       "    </tr>\n",
       "    <tr>\n",
       "      <th>2023-01-04</th>\n",
       "      <td>0.993468</td>\n",
       "      <td>4.136705</td>\n",
       "    </tr>\n",
       "    <tr>\n",
       "      <th>2023-01-05</th>\n",
       "      <td>3.405610</td>\n",
       "      <td>3.277551</td>\n",
       "    </tr>\n",
       "  </tbody>\n",
       "</table>\n",
       "</div>"
      ],
      "text/plain": [
       "               Tokyo   Beijing\n",
       "2023-01-01  1.730270  4.743177\n",
       "2023-01-02  0.480068  2.302572\n",
       "2023-01-03  1.562949  3.172551\n",
       "2023-01-04  0.993468  4.136705\n",
       "2023-01-05  3.405610  3.277551"
      ]
     },
     "execution_count": 74,
     "metadata": {},
     "output_type": "execute_result"
    }
   ],
   "source": [
    "#wheather_df\n",
    "import pandas as pd\n",
    "import numpy as np\n",
    "\n",
    "w_df = pd.DataFrame(np.random.rand(10,2)*5,\n",
    "                    index = pd.date_range(start=\"2023-01-01\", periods=10),\n",
    "                    columns = [\"Tokyo\",\"Beijing\"])\n",
    "\n",
    "w_df.head()"
   ]
  },
  {
   "cell_type": "code",
   "execution_count": 75,
   "metadata": {},
   "outputs": [],
   "source": [
    "# to add days, months, years, etc\n",
    "from datetime import date, timedelta\n",
    "from dateutil.relativedelta import relativedelta"
   ]
  },
  {
   "cell_type": "code",
   "execution_count": 76,
   "metadata": {},
   "outputs": [
    {
     "data": {
      "text/plain": [
       "datetime.date(2023, 4, 27)"
      ]
     },
     "execution_count": 76,
     "metadata": {},
     "output_type": "execute_result"
    }
   ],
   "source": [
    "date.today()"
   ]
  },
  {
   "cell_type": "code",
   "execution_count": 77,
   "metadata": {},
   "outputs": [
    {
     "data": {
      "text/plain": [
       "datetime.date(2024, 5, 31)"
      ]
     },
     "execution_count": 77,
     "metadata": {},
     "output_type": "execute_result"
    }
   ],
   "source": [
    "date.today() + timedelta(days=400)"
   ]
  },
  {
   "cell_type": "code",
   "execution_count": 78,
   "metadata": {},
   "outputs": [
    {
     "data": {
      "text/plain": [
       "datetime.date(2024, 5, 31)"
      ]
     },
     "execution_count": 78,
     "metadata": {},
     "output_type": "execute_result"
    }
   ],
   "source": [
    "date.today() + relativedelta(days=400)"
   ]
  },
  {
   "cell_type": "code",
   "execution_count": 79,
   "metadata": {},
   "outputs": [
    {
     "data": {
      "text/plain": [
       "datetime.date(2030, 4, 27)"
      ]
     },
     "execution_count": 79,
     "metadata": {},
     "output_type": "execute_result"
    }
   ],
   "source": [
    "date.today() + relativedelta(years=7)"
   ]
  },
  {
   "cell_type": "code",
   "execution_count": 80,
   "metadata": {},
   "outputs": [
    {
     "data": {
      "text/plain": [
       "datetime.date(2023, 8, 27)"
      ]
     },
     "execution_count": 80,
     "metadata": {},
     "output_type": "execute_result"
    }
   ],
   "source": [
    "date.today() + relativedelta(months=4)"
   ]
  },
  {
   "cell_type": "code",
   "execution_count": 81,
   "metadata": {},
   "outputs": [
    {
     "data": {
      "text/html": [
       "<div>\n",
       "<style scoped>\n",
       "    .dataframe tbody tr th:only-of-type {\n",
       "        vertical-align: middle;\n",
       "    }\n",
       "\n",
       "    .dataframe tbody tr th {\n",
       "        vertical-align: top;\n",
       "    }\n",
       "\n",
       "    .dataframe thead th {\n",
       "        text-align: right;\n",
       "    }\n",
       "</style>\n",
       "<table border=\"1\" class=\"dataframe\">\n",
       "  <thead>\n",
       "    <tr style=\"text-align: right;\">\n",
       "      <th></th>\n",
       "      <th>id</th>\n",
       "      <th>name</th>\n",
       "      <th>date_of_joining</th>\n",
       "      <th>today</th>\n",
       "      <th>range_date</th>\n",
       "    </tr>\n",
       "  </thead>\n",
       "  <tbody>\n",
       "    <tr>\n",
       "      <th>0</th>\n",
       "      <td>1</td>\n",
       "      <td>hiten</td>\n",
       "      <td>27-04-2023</td>\n",
       "      <td>2023-04-27</td>\n",
       "      <td>2023-07-24</td>\n",
       "    </tr>\n",
       "    <tr>\n",
       "      <th>1</th>\n",
       "      <td>2</td>\n",
       "      <td>manav</td>\n",
       "      <td>27-04-2023</td>\n",
       "      <td>2023-04-27</td>\n",
       "      <td>2023-07-25</td>\n",
       "    </tr>\n",
       "    <tr>\n",
       "      <th>2</th>\n",
       "      <td>3</td>\n",
       "      <td>hardeep</td>\n",
       "      <td>27-04-2023</td>\n",
       "      <td>2023-04-27</td>\n",
       "      <td>2023-07-26</td>\n",
       "    </tr>\n",
       "    <tr>\n",
       "      <th>3</th>\n",
       "      <td>4</td>\n",
       "      <td>akshy</td>\n",
       "      <td>27-04-2023</td>\n",
       "      <td>2023-04-27</td>\n",
       "      <td>2023-07-27</td>\n",
       "    </tr>\n",
       "    <tr>\n",
       "      <th>4</th>\n",
       "      <td>5</td>\n",
       "      <td>sumit</td>\n",
       "      <td>27-04-2023</td>\n",
       "      <td>2023-04-27</td>\n",
       "      <td>2023-07-28</td>\n",
       "    </tr>\n",
       "    <tr>\n",
       "      <th>5</th>\n",
       "      <td>6</td>\n",
       "      <td>varun</td>\n",
       "      <td>27-04-2023</td>\n",
       "      <td>2023-04-27</td>\n",
       "      <td>2023-07-29</td>\n",
       "    </tr>\n",
       "    <tr>\n",
       "      <th>6</th>\n",
       "      <td>7</td>\n",
       "      <td>shubham</td>\n",
       "      <td>27-04-2023</td>\n",
       "      <td>2023-04-27</td>\n",
       "      <td>2023-07-30</td>\n",
       "    </tr>\n",
       "    <tr>\n",
       "      <th>7</th>\n",
       "      <td>8</td>\n",
       "      <td>loyum</td>\n",
       "      <td>27-04-2023</td>\n",
       "      <td>2023-04-27</td>\n",
       "      <td>2023-07-31</td>\n",
       "    </tr>\n",
       "    <tr>\n",
       "      <th>8</th>\n",
       "      <td>9</td>\n",
       "      <td>virat</td>\n",
       "      <td>27-04-2023</td>\n",
       "      <td>2023-04-27</td>\n",
       "      <td>2023-08-01</td>\n",
       "    </tr>\n",
       "    <tr>\n",
       "      <th>9</th>\n",
       "      <td>10</td>\n",
       "      <td>sagar</td>\n",
       "      <td>27-04-2023</td>\n",
       "      <td>2023-04-27</td>\n",
       "      <td>2023-08-02</td>\n",
       "    </tr>\n",
       "  </tbody>\n",
       "</table>\n",
       "</div>"
      ],
      "text/plain": [
       "   id     name date_of_joining       today range_date\n",
       "0   1    hiten      27-04-2023  2023-04-27 2023-07-24\n",
       "1   2    manav      27-04-2023  2023-04-27 2023-07-25\n",
       "2   3  hardeep      27-04-2023  2023-04-27 2023-07-26\n",
       "3   4    akshy      27-04-2023  2023-04-27 2023-07-27\n",
       "4   5    sumit      27-04-2023  2023-04-27 2023-07-28\n",
       "5   6    varun      27-04-2023  2023-04-27 2023-07-29\n",
       "6   7  shubham      27-04-2023  2023-04-27 2023-07-30\n",
       "7   8    loyum      27-04-2023  2023-04-27 2023-07-31\n",
       "8   9    virat      27-04-2023  2023-04-27 2023-08-01\n",
       "9  10    sagar      27-04-2023  2023-04-27 2023-08-02"
      ]
     },
     "execution_count": 81,
     "metadata": {},
     "output_type": "execute_result"
    }
   ],
   "source": [
    "df"
   ]
  },
  {
   "cell_type": "code",
   "execution_count": 82,
   "metadata": {},
   "outputs": [],
   "source": [
    "#adding 5 years to each date of column date_of_joining\n",
    "df['date_of_joining'] = pd.to_datetime(df['date_of_joining'],dayfirst=True)\n",
    "df['add_5yr'] = df['date_of_joining'].apply(lambda x : x+relativedelta(years=5))"
   ]
  },
  {
   "cell_type": "code",
   "execution_count": 83,
   "metadata": {},
   "outputs": [
    {
     "data": {
      "text/html": [
       "<div>\n",
       "<style scoped>\n",
       "    .dataframe tbody tr th:only-of-type {\n",
       "        vertical-align: middle;\n",
       "    }\n",
       "\n",
       "    .dataframe tbody tr th {\n",
       "        vertical-align: top;\n",
       "    }\n",
       "\n",
       "    .dataframe thead th {\n",
       "        text-align: right;\n",
       "    }\n",
       "</style>\n",
       "<table border=\"1\" class=\"dataframe\">\n",
       "  <thead>\n",
       "    <tr style=\"text-align: right;\">\n",
       "      <th></th>\n",
       "      <th>id</th>\n",
       "      <th>name</th>\n",
       "      <th>date_of_joining</th>\n",
       "      <th>today</th>\n",
       "      <th>range_date</th>\n",
       "      <th>add_5yr</th>\n",
       "    </tr>\n",
       "  </thead>\n",
       "  <tbody>\n",
       "    <tr>\n",
       "      <th>0</th>\n",
       "      <td>1</td>\n",
       "      <td>hiten</td>\n",
       "      <td>2023-04-27</td>\n",
       "      <td>2023-04-27</td>\n",
       "      <td>2023-07-24</td>\n",
       "      <td>2028-04-27</td>\n",
       "    </tr>\n",
       "    <tr>\n",
       "      <th>1</th>\n",
       "      <td>2</td>\n",
       "      <td>manav</td>\n",
       "      <td>2023-04-27</td>\n",
       "      <td>2023-04-27</td>\n",
       "      <td>2023-07-25</td>\n",
       "      <td>2028-04-27</td>\n",
       "    </tr>\n",
       "    <tr>\n",
       "      <th>2</th>\n",
       "      <td>3</td>\n",
       "      <td>hardeep</td>\n",
       "      <td>2023-04-27</td>\n",
       "      <td>2023-04-27</td>\n",
       "      <td>2023-07-26</td>\n",
       "      <td>2028-04-27</td>\n",
       "    </tr>\n",
       "    <tr>\n",
       "      <th>3</th>\n",
       "      <td>4</td>\n",
       "      <td>akshy</td>\n",
       "      <td>2023-04-27</td>\n",
       "      <td>2023-04-27</td>\n",
       "      <td>2023-07-27</td>\n",
       "      <td>2028-04-27</td>\n",
       "    </tr>\n",
       "    <tr>\n",
       "      <th>4</th>\n",
       "      <td>5</td>\n",
       "      <td>sumit</td>\n",
       "      <td>2023-04-27</td>\n",
       "      <td>2023-04-27</td>\n",
       "      <td>2023-07-28</td>\n",
       "      <td>2028-04-27</td>\n",
       "    </tr>\n",
       "    <tr>\n",
       "      <th>5</th>\n",
       "      <td>6</td>\n",
       "      <td>varun</td>\n",
       "      <td>2023-04-27</td>\n",
       "      <td>2023-04-27</td>\n",
       "      <td>2023-07-29</td>\n",
       "      <td>2028-04-27</td>\n",
       "    </tr>\n",
       "    <tr>\n",
       "      <th>6</th>\n",
       "      <td>7</td>\n",
       "      <td>shubham</td>\n",
       "      <td>2023-04-27</td>\n",
       "      <td>2023-04-27</td>\n",
       "      <td>2023-07-30</td>\n",
       "      <td>2028-04-27</td>\n",
       "    </tr>\n",
       "    <tr>\n",
       "      <th>7</th>\n",
       "      <td>8</td>\n",
       "      <td>loyum</td>\n",
       "      <td>2023-04-27</td>\n",
       "      <td>2023-04-27</td>\n",
       "      <td>2023-07-31</td>\n",
       "      <td>2028-04-27</td>\n",
       "    </tr>\n",
       "    <tr>\n",
       "      <th>8</th>\n",
       "      <td>9</td>\n",
       "      <td>virat</td>\n",
       "      <td>2023-04-27</td>\n",
       "      <td>2023-04-27</td>\n",
       "      <td>2023-08-01</td>\n",
       "      <td>2028-04-27</td>\n",
       "    </tr>\n",
       "    <tr>\n",
       "      <th>9</th>\n",
       "      <td>10</td>\n",
       "      <td>sagar</td>\n",
       "      <td>2023-04-27</td>\n",
       "      <td>2023-04-27</td>\n",
       "      <td>2023-08-02</td>\n",
       "      <td>2028-04-27</td>\n",
       "    </tr>\n",
       "  </tbody>\n",
       "</table>\n",
       "</div>"
      ],
      "text/plain": [
       "   id     name date_of_joining       today range_date    add_5yr\n",
       "0   1    hiten      2023-04-27  2023-04-27 2023-07-24 2028-04-27\n",
       "1   2    manav      2023-04-27  2023-04-27 2023-07-25 2028-04-27\n",
       "2   3  hardeep      2023-04-27  2023-04-27 2023-07-26 2028-04-27\n",
       "3   4    akshy      2023-04-27  2023-04-27 2023-07-27 2028-04-27\n",
       "4   5    sumit      2023-04-27  2023-04-27 2023-07-28 2028-04-27\n",
       "5   6    varun      2023-04-27  2023-04-27 2023-07-29 2028-04-27\n",
       "6   7  shubham      2023-04-27  2023-04-27 2023-07-30 2028-04-27\n",
       "7   8    loyum      2023-04-27  2023-04-27 2023-07-31 2028-04-27\n",
       "8   9    virat      2023-04-27  2023-04-27 2023-08-01 2028-04-27\n",
       "9  10    sagar      2023-04-27  2023-04-27 2023-08-02 2028-04-27"
      ]
     },
     "execution_count": 83,
     "metadata": {},
     "output_type": "execute_result"
    }
   ],
   "source": [
    "df"
   ]
  },
  {
   "cell_type": "code",
   "execution_count": null,
   "metadata": {},
   "outputs": [],
   "source": []
  }
 ],
 "metadata": {
  "kernelspec": {
   "display_name": "Python 3",
   "language": "python",
   "name": "python3"
  },
  "language_info": {
   "codemirror_mode": {
    "name": "ipython",
    "version": 3
   },
   "file_extension": ".py",
   "mimetype": "text/x-python",
   "name": "python",
   "nbconvert_exporter": "python",
   "pygments_lexer": "ipython3",
   "version": "3.10.5"
  },
  "orig_nbformat": 4
 },
 "nbformat": 4,
 "nbformat_minor": 2
}
