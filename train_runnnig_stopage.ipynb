{
 "cells": [
  {
   "cell_type": "code",
   "execution_count": 42,
   "metadata": {},
   "outputs": [],
   "source": [
    "# A train run for 10 mins and stop for 5 min. Make a python code to get running and stopage time for a given input time."
   ]
  },
  {
   "cell_type": "code",
   "execution_count": 43,
   "metadata": {},
   "outputs": [
    {
     "name": "stdout",
     "output_type": "stream",
     "text": [
      "The quotient is 1\n",
      "The remainder is 7\n",
      "[10, 5]\n",
      "The expected pattern is [10, 5, 7]\n"
     ]
    }
   ],
   "source": [
    "n = int(input(\"Enter number\"))\n",
    "p = [10,5]\n",
    "q = n // 15\n",
    "r = n % 15\n",
    "print(f\"The quotient is {q}\")\n",
    "print(f\"The remainder is {r}\")\n",
    "\n",
    "list = p*q\n",
    "print(list)\n",
    "if r < 5:\n",
    "    list.append(r)\n",
    "elif r < 15:\n",
    "    if r < 10:\n",
    "        list.append(r)\n",
    "    else:\n",
    "        list.append(10)\n",
    "        list.append(r - 10)\n",
    "           \n",
    "print(f\"The expected pattern is {list}\")"
   ]
  },
  {
   "cell_type": "code",
   "execution_count": 44,
   "metadata": {},
   "outputs": [
    {
     "data": {
      "text/plain": [
       "17"
      ]
     },
     "execution_count": 44,
     "metadata": {},
     "output_type": "execute_result"
    }
   ],
   "source": [
    "#running time\n",
    "sum(list[::2])"
   ]
  },
  {
   "cell_type": "code",
   "execution_count": 45,
   "metadata": {},
   "outputs": [
    {
     "data": {
      "text/plain": [
       "5"
      ]
     },
     "execution_count": 45,
     "metadata": {},
     "output_type": "execute_result"
    }
   ],
   "source": [
    "#stopage time\n",
    "sum(list[1::2])"
   ]
  },
  {
   "cell_type": "code",
   "execution_count": null,
   "metadata": {},
   "outputs": [],
   "source": []
  }
 ],
 "metadata": {
  "kernelspec": {
   "display_name": "Python 3",
   "language": "python",
   "name": "python3"
  },
  "language_info": {
   "codemirror_mode": {
    "name": "ipython",
    "version": 3
   },
   "file_extension": ".py",
   "mimetype": "text/x-python",
   "name": "python",
   "nbconvert_exporter": "python",
   "pygments_lexer": "ipython3",
   "version": "3.10.5"
  },
  "orig_nbformat": 4
 },
 "nbformat": 4,
 "nbformat_minor": 2
}
