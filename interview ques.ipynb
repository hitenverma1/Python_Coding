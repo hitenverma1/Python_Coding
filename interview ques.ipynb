{
 "cells": [
  {
   "cell_type": "code",
   "execution_count": 17,
   "metadata": {},
   "outputs": [
    {
     "name": "stdout",
     "output_type": "stream",
     "text": [
      "0\n",
      "1\n",
      "1\n",
      "2\n",
      "3\n",
      "5\n",
      "8\n"
     ]
    }
   ],
   "source": [
    "#generate an infinite fibonaaci series by using generator\n",
    "\n",
    "def fibonacci():\n",
    "    a,b = 0,1\n",
    "    while True:\n",
    "        yield a\n",
    "        a,b = b,a+b\n",
    "\n",
    "f1 = fibonacci()\n",
    "print(next(f1))\n",
    "print(next(f1))\n",
    "print(next(f1))\n",
    "print(next(f1))\n",
    "print(next(f1))\n",
    "print(next(f1))\n",
    "print(next(f1))"
   ]
  },
  {
   "cell_type": "code",
   "execution_count": 37,
   "metadata": {},
   "outputs": [
    {
     "data": {
      "text/plain": [
       "[1, 2, 6, 8, 10, 12, 19, 35, 41]"
      ]
     },
     "execution_count": 37,
     "metadata": {},
     "output_type": "execute_result"
    }
   ],
   "source": [
    "#sort without using sort keyword\n",
    "\n",
    "list1 = [41,2,12,6,35,8,10,1,19]\n",
    "n = len(list1)\n",
    "\n",
    "for i in range(n):\n",
    "    for j in range(i+1,n):\n",
    "        if list1[i]>list1[j]:\n",
    "            list1[i],list1[j]=list1[j],list1[i]\n",
    "\n",
    "list1"
   ]
  },
  {
   "cell_type": "code",
   "execution_count": 39,
   "metadata": {},
   "outputs": [
    {
     "name": "stdout",
     "output_type": "stream",
     "text": [
      "Yes Plaindrome\n"
     ]
    }
   ],
   "source": [
    "#whether string is palindrome or not\n",
    "s = \"nitin\"\n",
    "if s == s[::-1]:\n",
    "    print(\"Yes Plaindrome\")\n",
    "else:\n",
    "    print(\"No\")"
   ]
  },
  {
   "cell_type": "code",
   "execution_count": 25,
   "metadata": {},
   "outputs": [
    {
     "name": "stdout",
     "output_type": "stream",
     "text": [
      "{132: 'Grapes', 575: 'Apple', 782: 'Banana', 876: 'Mango'}\n"
     ]
    }
   ],
   "source": [
    "#sort a dictionary by keys\n",
    "\n",
    "dict1 = {575 : \"Apple\", 876: \"Mango\", 132: \"Grapes\", 782: \"Banana\"}\n",
    "\n",
    "d = sorted(dict1.keys())\n",
    "\n",
    "dict2 = {}\n",
    "for i in d:\n",
    "    dict2[i] = dict1[i]\n",
    "\n",
    "print(dict2)\n"
   ]
  },
  {
   "cell_type": "code",
   "execution_count": 26,
   "metadata": {},
   "outputs": [
    {
     "name": "stdout",
     "output_type": "stream",
     "text": [
      "{575: 'Apple', 782: 'Banana', 132: 'Grapes', 876: 'Mango'}\n"
     ]
    }
   ],
   "source": [
    "#sort a dictionary by values\n",
    "\n",
    "dict1 = {575 : \"Apple\", 876: \"Mango\", 132: \"Grapes\", 782: \"Banana\"}\n",
    "\n",
    "dict2 = {key:value for key, value in sorted(dict1.items(), key = lambda x: x[1])}\n",
    "\n",
    "print(dict2)"
   ]
  },
  {
   "cell_type": "code",
   "execution_count": 33,
   "metadata": {},
   "outputs": [
    {
     "name": "stdout",
     "output_type": "stream",
     "text": [
      "8 2\n",
      "7 3\n"
     ]
    }
   ],
   "source": [
    "#print all pair with given sum\n",
    "\n",
    "list1 = [8,7,2,5,3,1]\n",
    "n = len(list1)\n",
    "k = 10\n",
    "for i in range(n):\n",
    "    for j in range(i+1, n):\n",
    "        if (list1[i]+list1[j]) == k:\n",
    "            print(list1[i], list1[j])"
   ]
  },
  {
   "cell_type": "code",
   "execution_count": 35,
   "metadata": {},
   "outputs": [
    {
     "name": "stdout",
     "output_type": "stream",
     "text": [
      "0\n",
      "1\n",
      "1\n",
      "2\n",
      "3\n",
      "5\n",
      "8\n",
      "13\n",
      "21\n"
     ]
    }
   ],
   "source": [
    "#Fibonacci series using recursion\n",
    "\n",
    "def recur_fibo(n):\n",
    "    if n <= 1:\n",
    "        return n\n",
    "    else:\n",
    "        return(recur_fibo(n-1)+recur_fibo(n-2))\n",
    "    \n",
    "nterms = int(input(\"How many terms? \"))\n",
    "\n",
    "if nterms <= 0:\n",
    "    print(\"Print enter a positive integer\")\n",
    "else:\n",
    "    for i in range(nterms):\n",
    "        print(recur_fibo(i))"
   ]
  },
  {
   "cell_type": "code",
   "execution_count": 36,
   "metadata": {},
   "outputs": [
    {
     "name": "stdout",
     "output_type": "stream",
     "text": [
      "blue is sky the\n"
     ]
    }
   ],
   "source": [
    "#find the output\n",
    "# reverse string\n",
    "s = \"the sky is blue\"\n",
    "l = s.split()\n",
    "l = l[::-1]\n",
    "l = \" \".join(l)\n",
    "print(l)"
   ]
  },
  {
   "cell_type": "code",
   "execution_count": 38,
   "metadata": {},
   "outputs": [
    {
     "name": "stdout",
     "output_type": "stream",
     "text": [
      "apples are  found only red  green\n"
     ]
    }
   ],
   "source": [
    "#remove Punctuation (Except Space)\n",
    "str1 = \"/*apples are & found only @red & green\"\n",
    "\n",
    "s = ''\n",
    "for i in str1:\n",
    "    if ((i>='A' and i <= 'Z') | (i>='a' and i <= 'z') | (i == ' ')):\n",
    "        s = s+i\n",
    "print(s)"
   ]
  },
  {
   "cell_type": "code",
   "execution_count": 47,
   "metadata": {},
   "outputs": [
    {
     "name": "stdout",
     "output_type": "stream",
     "text": [
      "{'i': 4, 't': 2, 'n': 5, 'y': 1, 'h': 2}\n",
      "n\n"
     ]
    }
   ],
   "source": [
    "#find max repeated charcter in a string (Time Complexity should be lesser than 0 (n2))\n",
    "\n",
    "s = \"itininiytnnhhn\"\n",
    "ch = {}\n",
    "for i in s:\n",
    "    if i in ch:\n",
    "        ch[i] += 1\n",
    "    else:\n",
    "        ch[i] = 1\n",
    "\n",
    "print(ch)\n",
    "max_char = max(ch, key = ch.get)\n",
    "print(max_char)"
   ]
  },
  {
   "cell_type": "code",
   "execution_count": 60,
   "metadata": {},
   "outputs": [
    {
     "name": "stdout",
     "output_type": "stream",
     "text": [
      "maximum :  370\n",
      "minimum :  0\n"
     ]
    }
   ],
   "source": [
    "#find min & max value without using any predefined funtions\n",
    "\n",
    "l = [9,11,0,370,55,40,2]\n",
    "max = l[0]\n",
    "mini = l[0]\n",
    "\n",
    "for i in l:\n",
    "    if i >max:\n",
    "        max = i\n",
    "    if i<mini:\n",
    "        mini = i\n",
    "\n",
    "print(\"maximum : \", max)\n",
    "print(\"minimum : \", mini)"
   ]
  },
  {
   "cell_type": "code",
   "execution_count": 67,
   "metadata": {},
   "outputs": [
    {
     "name": "stdout",
     "output_type": "stream",
     "text": [
      "Exception : 1 is found\n"
     ]
    }
   ],
   "source": [
    "#Raise Exception if element is 1 in a list\n",
    "l = [1,2,3,4]\n",
    "\n",
    "sum = 0\n",
    "try:\n",
    "    for i in l:\n",
    "        if i == 1:\n",
    "            raise Exception(f\"Exception : {i} is found\")\n",
    "        else:\n",
    "            sum  +=1\n",
    "except Exception as e:\n",
    "    print(e)\n"
   ]
  },
  {
   "cell_type": "code",
   "execution_count": 10,
   "metadata": {},
   "outputs": [
    {
     "data": {
      "text/plain": [
       "'e'"
      ]
     },
     "execution_count": 10,
     "metadata": {},
     "output_type": "execute_result"
    }
   ],
   "source": [
    "# Implement a function that takes in a string and returns the first non-repeated character.\n",
    "\n",
    "from collections import Counter\n",
    "\n",
    "def uniquecharacter(string: str): \n",
    "    count = Counter([*string])\n",
    "    for chr in string:\n",
    "        if count[chr] == 1:\n",
    "            return chr\n",
    "    return None\n",
    "uniquecharacter('aabbcccddddddefffhshiikk')\n"
   ]
  },
  {
   "cell_type": "code",
   "execution_count": 11,
   "metadata": {},
   "outputs": [],
   "source": [
    "#count repeating leeters in string\n",
    "def count_repeating_letters(string):\n",
    "    count = {}\n",
    "    \n",
    "    # Iterate over each character in the string\n",
    "    for char in string:\n",
    "        if char.isalpha():\n",
    "            # Convert character to lowercase\n",
    "            char = char.lower()\n",
    "            \n",
    "            if char in count:\n",
    "                # Increment count if character is already in the dictionary\n",
    "                count[char] += 1\n",
    "            else:\n",
    "                # Add character to dictionary with count 1 if it's not already present\n",
    "                count[char] = 1\n",
    "    \n",
    "    # Print the repeating characters along with their counts\n",
    "    for char, frequency in count.items():\n",
    "        if frequency > 1:\n",
    "            print(f\"Character '{char}' is repeated {frequency} times.\")"
   ]
  },
  {
   "cell_type": "code",
   "execution_count": 14,
   "metadata": {},
   "outputs": [
    {
     "name": "stdout",
     "output_type": "stream",
     "text": [
      "Character 'b' is repeated 2 times.\n",
      "Character 'f' is repeated 2 times.\n",
      "Character 'j' is repeated 3 times.\n",
      "Character 't' is repeated 4 times.\n",
      "Character 'i' is repeated 2 times.\n"
     ]
    }
   ],
   "source": [
    "st = \"ABBCFJ6JttttiiHF77J\"\n",
    "count_repeating_letters(st)"
   ]
  },
  {
   "cell_type": "code",
   "execution_count": null,
   "metadata": {},
   "outputs": [],
   "source": []
  },
  {
   "cell_type": "code",
   "execution_count": null,
   "metadata": {},
   "outputs": [],
   "source": []
  }
 ],
 "metadata": {
  "kernelspec": {
   "display_name": "Python 3",
   "language": "python",
   "name": "python3"
  },
  "language_info": {
   "codemirror_mode": {
    "name": "ipython",
    "version": 3
   },
   "file_extension": ".py",
   "mimetype": "text/x-python",
   "name": "python",
   "nbconvert_exporter": "python",
   "pygments_lexer": "ipython3",
   "version": "3.10.5"
  },
  "orig_nbformat": 4
 },
 "nbformat": 4,
 "nbformat_minor": 2
}
