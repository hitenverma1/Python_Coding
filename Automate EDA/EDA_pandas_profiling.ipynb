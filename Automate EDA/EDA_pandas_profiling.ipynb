{
 "cells": [
  {
   "cell_type": "code",
   "execution_count": 1,
   "metadata": {},
   "outputs": [
    {
     "name": "stdout",
     "output_type": "stream",
     "text": [
      "Collecting pandas-profiling\n",
      "  Using cached pandas_profiling-3.6.6-py2.py3-none-any.whl (324 kB)\n",
      "Collecting ydata-profiling\n",
      "  Using cached ydata_profiling-4.1.2-py2.py3-none-any.whl (345 kB)\n",
      "Requirement already satisfied: visions[type_image_path]==0.7.5 in c:\\users\\hiten\\appdata\\local\\programs\\python\\python310\\lib\\site-packages (from ydata-profiling->pandas-profiling) (0.7.5)\n",
      "Requirement already satisfied: multimethod<1.10,>=1.4 in c:\\users\\hiten\\appdata\\local\\programs\\python\\python310\\lib\\site-packages (from ydata-profiling->pandas-profiling) (1.9.1)\n",
      "Requirement already satisfied: statsmodels<0.14,>=0.13.2 in c:\\users\\hiten\\appdata\\local\\programs\\python\\python310\\lib\\site-packages (from ydata-profiling->pandas-profiling) (0.13.5)\n",
      "Requirement already satisfied: imagehash==4.3.1 in c:\\users\\hiten\\appdata\\local\\programs\\python\\python310\\lib\\site-packages (from ydata-profiling->pandas-profiling) (4.3.1)\n",
      "Requirement already satisfied: scipy<1.10,>=1.4.1 in c:\\users\\hiten\\appdata\\local\\programs\\python\\python310\\lib\\site-packages (from ydata-profiling->pandas-profiling) (1.8.1)\n",
      "Requirement already satisfied: tqdm<4.65,>=4.48.2 in c:\\users\\hiten\\appdata\\local\\programs\\python\\python310\\lib\\site-packages (from ydata-profiling->pandas-profiling) (4.64.0)\n",
      "Requirement already satisfied: matplotlib<3.7,>=3.2 in c:\\users\\hiten\\appdata\\local\\programs\\python\\python310\\lib\\site-packages (from ydata-profiling->pandas-profiling) (3.6.2)\n",
      "Requirement already satisfied: requests<2.29,>=2.24.0 in c:\\users\\hiten\\appdata\\local\\programs\\python\\python310\\lib\\site-packages (from ydata-profiling->pandas-profiling) (2.28.1)\n",
      "Requirement already satisfied: pandas!=1.4.0,<1.6,>1.1 in c:\\users\\hiten\\appdata\\local\\programs\\python\\python310\\lib\\site-packages (from ydata-profiling->pandas-profiling) (1.4.3)\n",
      "Requirement already satisfied: htmlmin==0.1.12 in c:\\users\\hiten\\appdata\\local\\programs\\python\\python310\\lib\\site-packages (from ydata-profiling->pandas-profiling) (0.1.12)\n",
      "Requirement already satisfied: jinja2<3.2,>=2.11.1 in c:\\users\\hiten\\appdata\\local\\programs\\python\\python310\\lib\\site-packages (from ydata-profiling->pandas-profiling) (3.1.2)\n",
      "Requirement already satisfied: pydantic<1.11,>=1.8.1 in c:\\users\\hiten\\appdata\\local\\programs\\python\\python310\\lib\\site-packages (from ydata-profiling->pandas-profiling) (1.10.7)\n",
      "Collecting phik<0.13,>=0.11.1\n",
      "  Using cached phik-0.12.3-cp310-cp310-win_amd64.whl (663 kB)\n",
      "Requirement already satisfied: seaborn<0.13,>=0.10.1 in c:\\users\\hiten\\appdata\\local\\programs\\python\\python310\\lib\\site-packages (from ydata-profiling->pandas-profiling) (0.12.1)\n",
      "Requirement already satisfied: numpy<1.24,>=1.16.0 in c:\\users\\hiten\\appdata\\local\\programs\\python\\python310\\lib\\site-packages (from ydata-profiling->pandas-profiling) (1.23.0)\n",
      "Requirement already satisfied: PyYAML<6.1,>=5.0.0 in c:\\users\\hiten\\appdata\\local\\programs\\python\\python310\\lib\\site-packages (from ydata-profiling->pandas-profiling) (5.4.1)\n",
      "Requirement already satisfied: typeguard<2.14,>=2.13.2 in c:\\users\\hiten\\appdata\\local\\programs\\python\\python310\\lib\\site-packages (from ydata-profiling->pandas-profiling) (2.13.3)\n",
      "Requirement already satisfied: pillow in c:\\users\\hiten\\appdata\\local\\programs\\python\\python310\\lib\\site-packages (from imagehash==4.3.1->ydata-profiling->pandas-profiling) (9.2.0)\n",
      "Requirement already satisfied: PyWavelets in c:\\users\\hiten\\appdata\\local\\programs\\python\\python310\\lib\\site-packages (from imagehash==4.3.1->ydata-profiling->pandas-profiling) (1.4.1)\n",
      "Requirement already satisfied: tangled-up-in-unicode>=0.0.4 in c:\\users\\hiten\\appdata\\local\\programs\\python\\python310\\lib\\site-packages (from visions[type_image_path]==0.7.5->ydata-profiling->pandas-profiling) (0.2.0)\n",
      "Requirement already satisfied: attrs>=19.3.0 in c:\\users\\hiten\\appdata\\local\\programs\\python\\python310\\lib\\site-packages (from visions[type_image_path]==0.7.5->ydata-profiling->pandas-profiling) (22.1.0)\n",
      "Requirement already satisfied: networkx>=2.4 in c:\\users\\hiten\\appdata\\local\\programs\\python\\python310\\lib\\site-packages (from visions[type_image_path]==0.7.5->ydata-profiling->pandas-profiling) (2.8.4)\n",
      "Requirement already satisfied: MarkupSafe>=2.0 in c:\\users\\hiten\\appdata\\local\\programs\\python\\python310\\lib\\site-packages (from jinja2<3.2,>=2.11.1->ydata-profiling->pandas-profiling) (2.1.1)\n",
      "Requirement already satisfied: kiwisolver>=1.0.1 in c:\\users\\hiten\\appdata\\local\\programs\\python\\python310\\lib\\site-packages (from matplotlib<3.7,>=3.2->ydata-profiling->pandas-profiling) (1.4.4)\n",
      "Requirement already satisfied: fonttools>=4.22.0 in c:\\users\\hiten\\appdata\\local\\programs\\python\\python310\\lib\\site-packages (from matplotlib<3.7,>=3.2->ydata-profiling->pandas-profiling) (4.38.0)\n",
      "Requirement already satisfied: contourpy>=1.0.1 in c:\\users\\hiten\\appdata\\local\\programs\\python\\python310\\lib\\site-packages (from matplotlib<3.7,>=3.2->ydata-profiling->pandas-profiling) (1.0.6)\n",
      "Requirement already satisfied: python-dateutil>=2.7 in c:\\users\\hiten\\appdata\\local\\programs\\python\\python310\\lib\\site-packages (from matplotlib<3.7,>=3.2->ydata-profiling->pandas-profiling) (2.8.2)\n",
      "Requirement already satisfied: pyparsing>=2.2.1 in c:\\users\\hiten\\appdata\\local\\programs\\python\\python310\\lib\\site-packages (from matplotlib<3.7,>=3.2->ydata-profiling->pandas-profiling) (3.0.9)\n",
      "Requirement already satisfied: packaging>=20.0 in c:\\users\\hiten\\appdata\\local\\programs\\python\\python310\\lib\\site-packages (from matplotlib<3.7,>=3.2->ydata-profiling->pandas-profiling) (21.3)\n",
      "Requirement already satisfied: cycler>=0.10 in c:\\users\\hiten\\appdata\\local\\programs\\python\\python310\\lib\\site-packages (from matplotlib<3.7,>=3.2->ydata-profiling->pandas-profiling) (0.11.0)\n",
      "Requirement already satisfied: pytz>=2020.1 in c:\\users\\hiten\\appdata\\local\\programs\\python\\python310\\lib\\site-packages (from pandas!=1.4.0,<1.6,>1.1->ydata-profiling->pandas-profiling) (2022.1)\n",
      "Requirement already satisfied: joblib>=0.14.1 in c:\\users\\hiten\\appdata\\local\\programs\\python\\python310\\lib\\site-packages (from phik<0.13,>=0.11.1->ydata-profiling->pandas-profiling) (1.2.0)\n",
      "Requirement already satisfied: typing-extensions>=4.2.0 in c:\\users\\hiten\\appdata\\local\\programs\\python\\python310\\lib\\site-packages (from pydantic<1.11,>=1.8.1->ydata-profiling->pandas-profiling) (4.5.0)\n",
      "Requirement already satisfied: charset-normalizer<3,>=2 in c:\\users\\hiten\\appdata\\local\\programs\\python\\python310\\lib\\site-packages (from requests<2.29,>=2.24.0->ydata-profiling->pandas-profiling) (2.1.0)\n",
      "Requirement already satisfied: urllib3<1.27,>=1.21.1 in c:\\users\\hiten\\appdata\\local\\programs\\python\\python310\\lib\\site-packages (from requests<2.29,>=2.24.0->ydata-profiling->pandas-profiling) (1.26.10)\n",
      "Requirement already satisfied: certifi>=2017.4.17 in c:\\users\\hiten\\appdata\\local\\programs\\python\\python310\\lib\\site-packages (from requests<2.29,>=2.24.0->ydata-profiling->pandas-profiling) (2022.6.15)\n",
      "Requirement already satisfied: idna<4,>=2.5 in c:\\users\\hiten\\appdata\\local\\programs\\python\\python310\\lib\\site-packages (from requests<2.29,>=2.24.0->ydata-profiling->pandas-profiling) (3.3)\n",
      "Requirement already satisfied: patsy>=0.5.2 in c:\\users\\hiten\\appdata\\local\\programs\\python\\python310\\lib\\site-packages (from statsmodels<0.14,>=0.13.2->ydata-profiling->pandas-profiling) (0.5.3)\n",
      "Requirement already satisfied: colorama in c:\\users\\hiten\\appdata\\local\\programs\\python\\python310\\lib\\site-packages (from tqdm<4.65,>=4.48.2->ydata-profiling->pandas-profiling) (0.4.4)\n",
      "Requirement already satisfied: six in c:\\users\\hiten\\appdata\\local\\programs\\python\\python310\\lib\\site-packages (from patsy>=0.5.2->statsmodels<0.14,>=0.13.2->ydata-profiling->pandas-profiling) (1.16.0)\n",
      "Installing collected packages: phik, ydata-profiling, pandas-profiling\n",
      "Successfully installed pandas-profiling-3.6.6 phik-0.12.3 ydata-profiling-4.1.2\n"
     ]
    }
   ],
   "source": [
    "!pip install pandas-profiling"
   ]
  },
  {
   "cell_type": "code",
   "execution_count": 2,
   "metadata": {},
   "outputs": [],
   "source": [
    "import pandas as pd\n",
    "import seaborn as sns\n",
    "\n"
   ]
  },
  {
   "cell_type": "code",
   "execution_count": 3,
   "metadata": {},
   "outputs": [],
   "source": [
    "df = sns.load_dataset('tips')"
   ]
  },
  {
   "cell_type": "code",
   "execution_count": 4,
   "metadata": {},
   "outputs": [
    {
     "data": {
      "text/plain": [
       "(244, 7)"
      ]
     },
     "execution_count": 4,
     "metadata": {},
     "output_type": "execute_result"
    }
   ],
   "source": [
    "df.shape"
   ]
  },
  {
   "cell_type": "code",
   "execution_count": 5,
   "metadata": {},
   "outputs": [
    {
     "data": {
      "text/html": [
       "<div>\n",
       "<style scoped>\n",
       "    .dataframe tbody tr th:only-of-type {\n",
       "        vertical-align: middle;\n",
       "    }\n",
       "\n",
       "    .dataframe tbody tr th {\n",
       "        vertical-align: top;\n",
       "    }\n",
       "\n",
       "    .dataframe thead th {\n",
       "        text-align: right;\n",
       "    }\n",
       "</style>\n",
       "<table border=\"1\" class=\"dataframe\">\n",
       "  <thead>\n",
       "    <tr style=\"text-align: right;\">\n",
       "      <th></th>\n",
       "      <th>total_bill</th>\n",
       "      <th>tip</th>\n",
       "      <th>sex</th>\n",
       "      <th>smoker</th>\n",
       "      <th>day</th>\n",
       "      <th>time</th>\n",
       "      <th>size</th>\n",
       "    </tr>\n",
       "  </thead>\n",
       "  <tbody>\n",
       "    <tr>\n",
       "      <th>0</th>\n",
       "      <td>16.99</td>\n",
       "      <td>1.01</td>\n",
       "      <td>Female</td>\n",
       "      <td>No</td>\n",
       "      <td>Sun</td>\n",
       "      <td>Dinner</td>\n",
       "      <td>2</td>\n",
       "    </tr>\n",
       "    <tr>\n",
       "      <th>1</th>\n",
       "      <td>10.34</td>\n",
       "      <td>1.66</td>\n",
       "      <td>Male</td>\n",
       "      <td>No</td>\n",
       "      <td>Sun</td>\n",
       "      <td>Dinner</td>\n",
       "      <td>3</td>\n",
       "    </tr>\n",
       "    <tr>\n",
       "      <th>2</th>\n",
       "      <td>21.01</td>\n",
       "      <td>3.50</td>\n",
       "      <td>Male</td>\n",
       "      <td>No</td>\n",
       "      <td>Sun</td>\n",
       "      <td>Dinner</td>\n",
       "      <td>3</td>\n",
       "    </tr>\n",
       "    <tr>\n",
       "      <th>3</th>\n",
       "      <td>23.68</td>\n",
       "      <td>3.31</td>\n",
       "      <td>Male</td>\n",
       "      <td>No</td>\n",
       "      <td>Sun</td>\n",
       "      <td>Dinner</td>\n",
       "      <td>2</td>\n",
       "    </tr>\n",
       "    <tr>\n",
       "      <th>4</th>\n",
       "      <td>24.59</td>\n",
       "      <td>3.61</td>\n",
       "      <td>Female</td>\n",
       "      <td>No</td>\n",
       "      <td>Sun</td>\n",
       "      <td>Dinner</td>\n",
       "      <td>4</td>\n",
       "    </tr>\n",
       "  </tbody>\n",
       "</table>\n",
       "</div>"
      ],
      "text/plain": [
       "   total_bill   tip     sex smoker  day    time  size\n",
       "0       16.99  1.01  Female     No  Sun  Dinner     2\n",
       "1       10.34  1.66    Male     No  Sun  Dinner     3\n",
       "2       21.01  3.50    Male     No  Sun  Dinner     3\n",
       "3       23.68  3.31    Male     No  Sun  Dinner     2\n",
       "4       24.59  3.61  Female     No  Sun  Dinner     4"
      ]
     },
     "execution_count": 5,
     "metadata": {},
     "output_type": "execute_result"
    }
   ],
   "source": [
    "df.head()"
   ]
  },
  {
   "cell_type": "code",
   "execution_count": 8,
   "metadata": {},
   "outputs": [
    {
     "name": "stderr",
     "output_type": "stream",
     "text": [
      "Summarize dataset: 100%|██████████| 25/25 [00:01<00:00, 21.88it/s, Completed]                    \n",
      "Generate report structure: 100%|██████████| 1/1 [00:01<00:00,  1.39s/it]\n",
      "Render HTML: 100%|██████████| 1/1 [00:00<00:00,  3.28it/s]\n",
      "Export report to file: 100%|██████████| 1/1 [00:00<00:00, 166.82it/s]\n"
     ]
    }
   ],
   "source": [
    "from pandas_profiling import ProfileReport\n",
    "profile = ProfileReport(df,explorative=True)\n",
    "profile.to_file('output_pandas_profiling.html')"
   ]
  },
  {
   "cell_type": "code",
   "execution_count": null,
   "metadata": {},
   "outputs": [],
   "source": []
  }
 ],
 "metadata": {
  "kernelspec": {
   "display_name": "Python 3",
   "language": "python",
   "name": "python3"
  },
  "language_info": {
   "codemirror_mode": {
    "name": "ipython",
    "version": 3
   },
   "file_extension": ".py",
   "mimetype": "text/x-python",
   "name": "python",
   "nbconvert_exporter": "python",
   "pygments_lexer": "ipython3",
   "version": "3.10.5"
  },
  "orig_nbformat": 4
 },
 "nbformat": 4,
 "nbformat_minor": 2
}
